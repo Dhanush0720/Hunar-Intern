{
  "nbformat": 4,
  "nbformat_minor": 0,
  "metadata": {
    "colab": {
      "provenance": [],
      "authorship_tag": "ABX9TyMoLFcajRYJSYQqxvCx+Aoy",
      "include_colab_link": true
    },
    "kernelspec": {
      "name": "python3",
      "display_name": "Python 3"
    },
    "language_info": {
      "name": "python"
    }
  },
  "cells": [
    {
      "cell_type": "markdown",
      "metadata": {
        "id": "view-in-github",
        "colab_type": "text"
      },
      "source": [
        "<a href=\"https://colab.research.google.com/github/Dhanush0720/Hunar-Intern/blob/main/matrix.ipynb\" target=\"_parent\"><img src=\"https://colab.research.google.com/assets/colab-badge.svg\" alt=\"Open In Colab\"/></a>"
      ]
    },
    {
      "cell_type": "code",
      "execution_count": 2,
      "metadata": {
        "colab": {
          "base_uri": "https://localhost:8080/"
        },
        "id": "t42VRkzW1whc",
        "outputId": "2586a41f-4c06-498d-a25e-b68f67aa715d"
      },
      "outputs": [
        {
          "output_type": "stream",
          "name": "stdout",
          "text": [
            "Enter the order of the square matrix (e.g., 2 for 2x2): 2\n",
            "Enter the elements row-wise:\n",
            "Row 1: 42 4\n",
            "Row 2: 6 6\n",
            "Matrix:\n",
            "[[42  4]\n",
            " [ 6  6]]\n",
            "Sum of diagonal elements: 48\n"
          ]
        }
      ],
      "source": [
        "\n",
        "import numpy as np\n",
        "\n",
        "# Get matrix order from user\n",
        "n = int(input(\"Enter the order of the square matrix (e.g., 2 for 2x2): \"))\n",
        "matrix = []\n",
        "\n",
        "# Take matrix values as input\n",
        "print(\"Enter the elements row-wise:\")\n",
        "for i in range(n):\n",
        "    row = list(map(int, input(f\"Row {i+1}: \").split()))\n",
        "    if len(row) != n:\n",
        "        raise ValueError(\"Each row must have exactly\", n, \"elements.\")\n",
        "    matrix.append(row)\n",
        "\n",
        "# Convert to NumPy array\n",
        "np_matrix = np.array(matrix)\n",
        "\n",
        "# Calculate diagonal sum\n",
        "diag_sum = sum(np_matrix[i][i] for i in range(n))\n",
        "\n",
        "print(\"Matrix:\")\n",
        "print(np_matrix)\n",
        "print(\"Sum of diagonal elements:\", diag_sum)\n",
        "\n",
        "\n"
      ]
    }
  ]
}